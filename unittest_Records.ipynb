{
 "cells": [
  {
   "cell_type": "code",
   "execution_count": 2,
   "metadata": {},
   "outputs": [],
   "source": [
    "import unittest\n",
    "from Fittness.calories_burn import records as re"
   ]
  },
  {
   "cell_type": "code",
   "execution_count": 3,
   "metadata": {},
   "outputs": [
    {
     "name": "stderr",
     "output_type": "stream",
     "text": [
      "test_BMI (__main__.TestRecords) ... ok\n",
      "test_display (__main__.TestRecords) ... ok\n",
      "test_init (__main__.TestRecords) ... "
     ]
    },
    {
     "name": "stdout",
     "output_type": "stream",
     "text": [
      "Set up class\n",
      "Set up\n",
      "test BMI\n",
      "Tear Down\n",
      "Set up\n",
      "test dispaly\n",
      "Tear Down\n",
      "Set up\n",
      "test initialization\n",
      "Tear Down\n",
      "Tear Down Class\n"
     ]
    },
    {
     "name": "stderr",
     "output_type": "stream",
     "text": [
      "ok\n",
      "\n",
      "----------------------------------------------------------------------\n",
      "Ran 3 tests in 0.003s\n",
      "\n",
      "OK\n"
     ]
    },
    {
     "data": {
      "text/plain": [
       "<unittest.main.TestProgram at 0x7f930fc16df0>"
      ]
     },
     "execution_count": 3,
     "metadata": {},
     "output_type": "execute_result"
    }
   ],
   "source": [
    "class TestRecords(unittest.TestCase):\n",
    "    @classmethod \n",
    "    def setUpClass(cls):\n",
    "        print('Set up class')\n",
    "        \n",
    "    def setUp(self):\n",
    "        self.p1=re.Records(\"Mary\",\"female\",21,172,55)\n",
    "        self.p2=re.Records(\"Mike\",\"male\",24,176,65)\n",
    "        print('Set up')\n",
    "        \n",
    "    def test_init(self):\n",
    "        print(\"test initialization\")\n",
    "        self.assertEqual(self.p1.gender,\"female\")\n",
    "        self.assertEqual(self.p1.name,\"Mary\")\n",
    "        self.assertEqual(self.p1.age,21)\n",
    "        self.assertEqual(self.p1.height,172)\n",
    "        self.assertEqual(self.p1.weight,55)\n",
    "        self.assertEqual(self.p2.gender,\"male\")\n",
    "        self.assertEqual(self.p2.name,\"Mike\")\n",
    "        self.assertEqual(self.p2.age,24)\n",
    "        self.assertEqual(self.p2.height,176)\n",
    "        self.assertEqual(self.p2.weight,65)\n",
    "\n",
    "        \n",
    "        \n",
    "        \n",
    "        \n",
    "    def test_BMI(self):\n",
    "        print(\"test BMI\")\n",
    "        self.bmi1=self.p1.weight/(self.p1.height/100)**2\n",
    "        self.bmi2=self.p2.weight/(self.p2.height/100)**2\n",
    "        self.assertAlmostEqual(self.bmi1,18.59,2)\n",
    "        self.assertAlmostEqual(self.bmi2,20.98,2)\n",
    "        self.assertEqual(self.p1.BMI(),\"Hello,Mary your BMI is 18.59 which is in normal range\")\n",
    "        self.assertEqual(self.p2.BMI(),\"Hello,Mike your BMI is 20.98 which is in normal range\")\n",
    "    \n",
    "    \n",
    "    def test_display(self):\n",
    "        print(\"test dispaly\")\n",
    "        self.assertEqual(self.p1.display(),\"Name: Mary Age: 21 Gender:female Height: 172cm Wegiht: 55kg\")\n",
    "        self.assertEqual(self.p2.display(),\"Name: Mike Age: 24 Gender:male Height: 176cm Wegiht: 65kg\")\n",
    "        self.assertNotEqual(self.p1.display(),\"Name: Mary Age: 21 Gender:male Height: 172cm Wegiht: 55kg\")\n",
    "        self.assertNotEqual(self.p2.display(),\"Name: Mike Age: 24 Gender:female Height: 176cm Wegiht: 65kg\")\n",
    "    \n",
    "    def tearDown(self):\n",
    "        print('Tear Down')\n",
    "        \n",
    "    @classmethod   \n",
    "    def tearDownClass(cls):\n",
    "        print(\"Tear Down Class\")\n",
    "unittest.main(argv=[''], verbosity=2, exit=False)  "
   ]
  }
 ],
 "metadata": {
  "kernelspec": {
   "display_name": "Python 3",
   "language": "python",
   "name": "python3"
  },
  "language_info": {
   "codemirror_mode": {
    "name": "ipython",
    "version": 3
   },
   "file_extension": ".py",
   "mimetype": "text/x-python",
   "name": "python",
   "nbconvert_exporter": "python",
   "pygments_lexer": "ipython3",
   "version": "3.8.3"
  }
 },
 "nbformat": 4,
 "nbformat_minor": 4
}
