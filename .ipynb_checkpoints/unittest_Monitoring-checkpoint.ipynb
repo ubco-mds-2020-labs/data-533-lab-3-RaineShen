{
 "cells": [
  {
   "cell_type": "code",
   "execution_count": 17,
   "metadata": {},
   "outputs": [],
   "source": [
    "import unittest\n",
    "from Fittness.calories_burn import records as re\n",
    "from Fittness.calories_burn import monitoring "
   ]
  },
  {
   "cell_type": "code",
   "execution_count": 18,
   "metadata": {},
   "outputs": [
    {
     "name": "stderr",
     "output_type": "stream",
     "text": [
      "test_init (__main__.TestMonitoring) ... ok\n",
      "test_new_weight (__main__.TestMonitoring) ... "
     ]
    },
    {
     "name": "stdout",
     "output_type": "stream",
     "text": [
      "Set up class\n",
      "Set up\n",
      "test initialization\n",
      "Tear Down\n",
      "Set up\n",
      "Tear Down\n",
      "Tear Down Class\n"
     ]
    },
    {
     "name": "stderr",
     "output_type": "stream",
     "text": [
      "ERROR\n",
      "\n",
      "======================================================================\n",
      "ERROR: test_new_weight (__main__.TestMonitoring)\n",
      "----------------------------------------------------------------------\n",
      "Traceback (most recent call last):\n",
      "  File \"<ipython-input-18-5a965426c9ee>\", line 27, in test_new_weight\n",
      "    self.assertEqual( self.M1.new_weight(),[self.M1.weight])\n",
      "TypeError: new_weight() missing 1 required positional argument: 'newweight'\n",
      "\n",
      "----------------------------------------------------------------------\n",
      "Ran 2 tests in 0.002s\n",
      "\n",
      "FAILED (errors=1)\n"
     ]
    },
    {
     "data": {
      "text/plain": [
       "<unittest.main.TestProgram at 0x7ff138e98220>"
      ]
     },
     "execution_count": 18,
     "metadata": {},
     "output_type": "execute_result"
    }
   ],
   "source": [
    "class TestMonitoring(unittest.TestCase):\n",
    "    @classmethod \n",
    "    def setUpClass(cls):\n",
    "        cls.re_p1=re.Records(\"Mary\",\"female\",21,172,55)\n",
    "        cls.re_p2=re.Records(\"Mike\",\"male\",24,176,65)\n",
    "        print('Set up class')\n",
    "        \n",
    "        \n",
    "    def setUp(self):\n",
    "        self.M1=monitoring.Monitoring(\"Mary\",\"female\",21,172,55,1390)\n",
    "        self.M2=monitoring.Monitoring(\"Mike\",\"male\",24,176,65,2340)\n",
    "        print('Set up')\n",
    "        \n",
    "        \n",
    "    def test_init(self):\n",
    "        print(\"test initialization\")\n",
    "        self.assertEqual(self.M1.calories,1390)\n",
    "        self.assertEqual(self.M2.calories,2340)\n",
    "        self.assertEqual(self.M1.name,self.re_p1.name)\n",
    "        self.assertEqual(self.M2.name,self.re_p2.name)\n",
    "        self.assertEqual(self.M1.age,self.re_p1.age)\n",
    "        self.assertEqual(self.M2.age,self.re_p2.age)\n",
    "    \n",
    "    \n",
    "    \n",
    "    def test_new_weight(self):\n",
    "        self.assertEqual( self.M1.new_weight(),[self.M1.weight])\n",
    "        \n",
    "     \n",
    "    def tearDown(self):\n",
    "        print('Tear Down')\n",
    "        \n",
    "    @classmethod   \n",
    "    def tearDownClass(cls):\n",
    "        print(\"Tear Down Class\")\n",
    "unittest.main(argv=[''], verbosity=2, exit=False)    "
   ]
  }
 ],
 "metadata": {
  "kernelspec": {
   "display_name": "Python 3",
   "language": "python",
   "name": "python3"
  },
  "language_info": {
   "codemirror_mode": {
    "name": "ipython",
    "version": 3
   },
   "file_extension": ".py",
   "mimetype": "text/x-python",
   "name": "python",
   "nbconvert_exporter": "python",
   "pygments_lexer": "ipython3",
   "version": "3.8.3"
  }
 },
 "nbformat": 4,
 "nbformat_minor": 4
}
