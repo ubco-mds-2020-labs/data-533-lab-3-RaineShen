{
 "cells": [
  {
   "cell_type": "code",
   "execution_count": 1,
   "metadata": {},
   "outputs": [
    {
     "name": "stdin",
     "output_type": "stream",
     "text": [
      "How many protein have you consumed in gram? 50\n",
      "How many fat have you consumed in gram? 40\n",
      "How many carbohydrate have you consumed in gram? 120\n",
      "What is your weight in kg? 45\n",
      "What is your height in cm? 155\n",
      "What is your current age? 30\n",
      "What is your gender? (m/f) f\n"
     ]
    },
    {
     "name": "stdout",
     "output_type": "stream",
     "text": [
      "Choose your activity level:\n",
      "1 - Sedentary (little or no exercise)\n",
      "2 - Lightly active (exercise 1-3 days/week)\n",
      "3 - Moderately active (exercise 3-5 days/week)\n",
      "4 - Active (exercise 6-7 days/week)\n",
      "5 - Very active (hard exercise 6-7 days/week)\n"
     ]
    },
    {
     "name": "stdin",
     "output_type": "stream",
     "text": [
      " 1\n"
     ]
    },
    {
     "name": "stdout",
     "output_type": "stream",
     "text": [
      "Summary:\n",
      "You have consumed 50.00 grams protein today.\n",
      "Calories intaken from protein is 200.00.\n",
      "You have consumed 40.00 grams fat today.\n",
      "Calories intaken from fat is 360.00.\n",
      "You have consumed 120.00 grams carbohydrate today.\n",
      "Calories intaken from carbohydrate is 480.00.\n",
      "The total calories you have intaken today is 1040.00\n",
      "You need to intake 272.00 more calorie from fat!\n",
      "You need to intake 556.00 more calorie from carbohydrate!\n",
      "You need to intake 417.34 more calories daily!\n"
     ]
    },
    {
     "name": "stdin",
     "output_type": "stream",
     "text": [
      "Enter your daily protein intake in gram, separated by spaces 50 60 45 87 32 15 69 54 20 32 65 78\n",
      "Enter your daily fat intake in gram, separated by spaces 47 40 45 45 32 15 14 36 20 15 20 54\n",
      "Enter your daily carbohydrate intake in gram, separated by spaces 126 155 102 87 135 120 69 69 88 78 90 100\n"
     ]
    },
    {
     "name": "stdout",
     "output_type": "stream",
     "text": [
      "Summary:\n",
      "Your average daily protein intake in 12 days is 50.58 g\n",
      "Your average daily fat intake in 12 days is 31.92 g\n",
      "Your average daily carbohydrate intake in 12 days is 101.58 g\n",
      "Your average calorie intake in 12 days is 895.92\n"
     ]
    }
   ],
   "source": [
    "from Fittness.calories_intake import nutrients as nu\n",
    "from Fittness.calories_intake import visualization as vi\n",
    "\n",
    "nu.entry()\n",
    "vi.entry()"
   ]
  },
  {
   "cell_type": "markdown",
   "metadata": {},
   "source": [
    "**Random numbers for entering for vi.entry():**\n",
    "\n",
    "Protein -- 50 60 45 87 32 15 69 54 20 32 65 78\n",
    "\n",
    "Fat -- 47 40 45 45 32 15 14 36 20 15 20 54\n",
    "\n",
    "Carb -- 126 155 102 87 135 120 69 69 88 78 90 100"
   ]
  }
 ],
 "metadata": {
  "kernelspec": {
   "display_name": "Python 3",
   "language": "python",
   "name": "python3"
  },
  "language_info": {
   "codemirror_mode": {
    "name": "ipython",
    "version": 3
   },
   "file_extension": ".py",
   "mimetype": "text/x-python",
   "name": "python",
   "nbconvert_exporter": "python",
   "pygments_lexer": "ipython3",
   "version": "3.8.3"
  }
 },
 "nbformat": 4,
 "nbformat_minor": 4
}
