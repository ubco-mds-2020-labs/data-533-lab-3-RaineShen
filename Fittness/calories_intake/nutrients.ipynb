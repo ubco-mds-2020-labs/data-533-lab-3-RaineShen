{
 "cells": [
  {
   "cell_type": "code",
   "execution_count": 2,
   "metadata": {},
   "outputs": [],
   "source": [
    "class Nutrients:\n",
    "    \n",
    "    def __init__(self, name, amount):\n",
    "        self.name = name\n",
    "        self.amount = amount\n",
    "\n",
    "    def display(self):\n",
    "        print('You have consumed {:.2f} grams {} today.'.format(self.amount, self.name))"
   ]
  },
  {
   "cell_type": "code",
   "execution_count": 3,
   "metadata": {},
   "outputs": [],
   "source": [
    "class Protein(Nutrients):\n",
    "    \n",
    "    def __init__(self, name, amount, calPerGram=4):\n",
    "        Nutrients.__init__(self, name, amount)\n",
    "        self.calPerGram = calPerGram\n",
    "        \n",
    "    def protCal(self):\n",
    "        return self.amount * self.calPerGram\n",
    "        \n",
    "    def displaypCalories(self):\n",
    "        Nutrients.display(self)\n",
    "        toAmount = self.amount * self.calPerGram\n",
    "        print('Calories intaken from protein is {:.2f}.'.format(toAmount))\n"
   ]
  },
  {
   "cell_type": "code",
   "execution_count": 4,
   "metadata": {},
   "outputs": [],
   "source": [
    "class Fat(Nutrients):\n",
    "    \n",
    "    def __init__(self, name, amount, calPerGram=9):\n",
    "        Nutrients.__init__(self, name, amount)\n",
    "        self.calPerGram = calPerGram\n",
    "        \n",
    "    def fatCal(self):\n",
    "        return self.amount * self.calPerGram\n",
    "        \n",
    "    def displayfCalories(self):\n",
    "        Nutrients.display(self)\n",
    "        toAmount = self.amount * self.calPerGram\n",
    "        print('Calories intaken from fat is {:.2f}.'.format(toAmount))\n",
    "        "
   ]
  },
  {
   "cell_type": "code",
   "execution_count": 5,
   "metadata": {},
   "outputs": [],
   "source": [
    "class Carbohydrate(Nutrients):\n",
    "    \n",
    "    def __init__(self, name, amount, calPerGram=4):\n",
    "        Nutrients.__init__(self, name, amount)\n",
    "        self.calPerGram = calPerGram\n",
    "        \n",
    "    def carbCal(self):\n",
    "        return self.amount * self.calPerGram\n",
    "        \n",
    "    def displaycCalories(self):\n",
    "        Nutrients.display(self)\n",
    "        toAmount = self.amount * self.calPerGram\n",
    "        print('Calories intaken from carbohydrate is {:.2f}.'.format(toAmount))\n",
    "    "
   ]
  },
  {
   "cell_type": "code",
   "execution_count": 29,
   "metadata": {},
   "outputs": [],
   "source": [
    "def entry():\n",
    "    \n",
    "    \"\"\"\n",
    "    This function is for the user to enter information to each specific question\n",
    "    in order to obtain nutritional and dietary related summary.\n",
    "    \n",
    "    \"\"\"\n",
    "    \n",
    "    try:\n",
    "        proteinIntake = float(input('How many protein have you consumed in gram?'))\n",
    "        fatIntake = float(input('How many fat have you consumed in gram?'))\n",
    "        carbIntake = float(input('How many carbohydrate have you consumed in gram?'))\n",
    "        \n",
    "        weight = float(input('What is your weight in kg?'))\n",
    "        height = float(input('What is your height in cm?'))\n",
    "        age = int(input('What is your current age?'))\n",
    "        sex = input('What is your gender? (m/f)')\n",
    "        \n",
    "    except ValueError as e:\n",
    "        print('Please enter a valid value')\n",
    "        entry()\n",
    "        \n",
    "    print('Choose your activity level:')\n",
    "    print('1 - Sedentary (little or no exercise)')\n",
    "    print('2 - Lightly active (exercise 1-3 days/week)')\n",
    "    print('3 - Moderately active (exercise 3-5 days/week)')\n",
    "    print('4 - Active (exercise 6-7 days/week)')\n",
    "    print('5 - Very active (hard exercise 6-7 days/week)')\n",
    "    answer = input()\n",
    "    if answer == '1':\n",
    "        act_fact = 1.2\n",
    "    elif answer == '2':\n",
    "        act_fact = 1.375\n",
    "    elif answer == '3':\n",
    "        act_fact = 1.55\n",
    "    elif answer == '4':\n",
    "        act_fact = 1.725\n",
    "    elif answer == '5':\n",
    "        act_fact = 1.9\n",
    "    else:\n",
    "        raise ValueError('Please choose a valid number')\n",
    "        entry()\n",
    "        \n",
    "    calCalories(proteinIntake, fatIntake, carbIntake)\n",
    "    bodyNeeds(weight, height, sex, age, proteinIntake, fatIntake, carbIntake, act_fact)\n",
    "    \n",
    "    \n",
    "def calCalories(protI, fatI, carbI):\n",
    "    \n",
    "    \"\"\"\n",
    "    Description of the Function\n",
    "\n",
    "    Parameters:\n",
    "    protI (float): protein intake in gram provided by the user\n",
    "    fatI (float): fat intake in gram provided by the user\n",
    "    carbI (float): carbohydrate intake in gram provided by the user\n",
    "\n",
    "    Returns:\n",
    "    print the total calories from all three nutrients intake provided by the user\n",
    "    \n",
    "    \"\"\"\n",
    "    \n",
    "    prot = Protein('protein', protI, 4)\n",
    "    fat = Fat('fat', fatI, 9)\n",
    "    carb = Carbohydrate('carbohydrate', carbI, 4)\n",
    "    print('Summary:')\n",
    "    prot.displaypCalories()\n",
    "    fat.displayfCalories()\n",
    "    carb.displaycCalories()\n",
    "    totalCalo = prot.protCal() + fat.fatCal() + carb.carbCal()\n",
    "    return totalCalo\n",
    "    \n",
    "    \n",
    "def bodyNeeds(w, h, s, age, proAmt, fatAmt, carbAmt, fac):\n",
    "    \n",
    "    \"\"\"\n",
    "    Description of the Function\n",
    "\n",
    "    Parameters:\n",
    "    w (float): weight in ky provided by the user\n",
    "    h (float): height in cm provided by the user\n",
    "    s (string): sex (male/female) provided by the user\n",
    "    age (int): age provided by the user\n",
    "    proAmt (float): protein intake in gram provided by the user\n",
    "    fatAmt (float): fat intake in gram provided by the user\n",
    "    carbAmt (float): carbohydrate intake in gram provided by the user\n",
    "    fac (float): activity factor obtained based on the activity level provided by the user\n",
    "\n",
    "    Returns:\n",
    "    print the summaries and suggestions for different nutrients intake, as well as\n",
    "    for total calorie intake based on activity level and dietray intake\n",
    "    \n",
    "    \"\"\"\n",
    "    \n",
    "    prot = Protein('protein', proAmt, 4)\n",
    "    fat = Fat('fat', fatAmt, 9)\n",
    "    carb = Carbohydrate('carbohydrate', carbAmt, 4)\n",
    "    totalCalo = prot.protCal() + fat.fatCal() + carb.carbCal()\n",
    "    rdaPro = 0.8 * w\n",
    "    rdaFat = 0.3 * totalCalo\n",
    "    rdaCarb = 0.65 * totalCalo\n",
    "    if s == 'f':\n",
    "        bmr = (447.6 + 9.25 * w) + (3.10 * h) - (4.33 * age)\n",
    "        amr = round(bmr * fac, 0)\n",
    "    elif s == 'm':\n",
    "        bmr = (88.4 + 13.4 * w) + (4.8 * h) - (5.68 * age)\n",
    "        amr = round(bmr * fac, 0)\n",
    "    if prot.amount < rdaPro:\n",
    "        diffP = rdaPro - prot.protCal()\n",
    "        print('You need to intake {:.2f} more calorie from protein!'.format(diffP))\n",
    "    if fat.amount > rdaFat:\n",
    "        diffF = fat.amount - rdaFat\n",
    "        print('You need to cut your daily fat intake by {:.2f} grams!'.format(diffF))\n",
    "    elif fat.amount < rdaFat and totalCalo <= bmr:\n",
    "        diffF = rdaFat - fat.amount\n",
    "        print('You need to intake {:.2f} more calorie from fat!'.format(diffF))\n",
    "    if carb.amount > rdaCarb:\n",
    "        diffC = carb.amount - rdaCarb\n",
    "        print('You need to cut your daily carbohydrate intake by {:.2f} grams!'.format(diffC))\n",
    "    elif carb.amount < 0.45 * totalCalo and totalCalo <= bmr:\n",
    "        diffC = rdaCarb - carb.amount\n",
    "        print('You need to intake {:.2f} more calorie from carbohydrate!'.format(diffC))\n",
    "    \n",
    "    if totalCalo > amr:\n",
    "        diffCal = totalCalo - amr\n",
    "#         print('You need to cut down your daily calorie intake by {:.2f} or do more exercises!'.format(diffCal))\n",
    "        return 'You need to cut down your daily calorie intake or do more exercise!'\n",
    "    elif totalCalo == amr:\n",
    "#         print('You are doing great to maintain your weight!')\n",
    "        return 'You are doing great to maintain your weight!'\n",
    "    else:\n",
    "        diffCal = amr - totalCalo\n",
    "#         print('You need to intake {:.2f} more calories daily!'.format(diffCal))\n",
    "        return 'You need to intake more calories daily!'\n",
    "    "
   ]
  },
  {
   "cell_type": "code",
   "execution_count": 14,
   "metadata": {},
   "outputs": [
    {
     "name": "stdin",
     "output_type": "stream",
     "text": [
      "How many protein have you consumed in gram? 75\n",
      "How many fat have you consumed in gram? 40\n",
      "How many carbohydrate have you consumed in gram? 165\n",
      "What is your weight in kg? 45\n",
      "What is your height in cm? 155\n",
      "What is your current age? 30\n",
      "What is your gender? (m/f) f\n"
     ]
    },
    {
     "name": "stdout",
     "output_type": "stream",
     "text": [
      "Choose your activity level:\n",
      "1 - Sedentary (little or no exercise)\n",
      "2 - Lightly active (exercise 1-3 days/week)\n",
      "3 - Moderately active (exercise 3-5 days/week)\n",
      "4 - Active (exercise 6-7 days/week)\n",
      "5 - Very active (hard exercise 6-7 days/week)\n"
     ]
    },
    {
     "name": "stdin",
     "output_type": "stream",
     "text": [
      " 1\n"
     ]
    },
    {
     "name": "stdout",
     "output_type": "stream",
     "text": [
      "You need to intake 137.34 more calories daily!\n"
     ]
    }
   ],
   "source": [
    "entry()"
   ]
  },
  {
   "cell_type": "code",
   "execution_count": 14,
   "metadata": {},
   "outputs": [
    {
     "data": {
      "text/plain": [
       "1318"
      ]
     },
     "execution_count": 14,
     "metadata": {},
     "output_type": "execute_result"
    }
   ],
   "source": [
    "calCalories(82, 110, 0)"
   ]
  },
  {
   "cell_type": "code",
   "execution_count": 37,
   "metadata": {},
   "outputs": [
    {
     "data": {
      "text/plain": [
       "'You need to cut down your daily calorie intake or do more exercise!'"
      ]
     },
     "execution_count": 37,
     "metadata": {},
     "output_type": "execute_result"
    }
   ],
   "source": [
    "bodyNeeds(55, 176, 'm', 67, 150, 120, 250, 1.375)"
   ]
  },
  {
   "cell_type": "code",
   "execution_count": null,
   "metadata": {},
   "outputs": [],
   "source": []
  }
 ],
 "metadata": {
  "kernelspec": {
   "display_name": "Python 3",
   "language": "python",
   "name": "python3"
  },
  "language_info": {
   "codemirror_mode": {
    "name": "ipython",
    "version": 3
   },
   "file_extension": ".py",
   "mimetype": "text/x-python",
   "name": "python",
   "nbconvert_exporter": "python",
   "pygments_lexer": "ipython3",
   "version": "3.8.3"
  }
 },
 "nbformat": 4,
 "nbformat_minor": 4
}
