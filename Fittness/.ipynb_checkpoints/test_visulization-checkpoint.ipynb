{
 "cells": [
  {
   "cell_type": "code",
   "execution_count": 1,
   "metadata": {},
   "outputs": [
    {
     "name": "stderr",
     "output_type": "stream",
     "text": [
      "test_entry (__main__.TestVisualization) ... ok\n",
      "test_type (__main__.TestVisualization) ... "
     ]
    },
    {
     "name": "stdout",
     "output_type": "stream",
     "text": [
      "setUpClass\n",
      "tearDownClass\n"
     ]
    },
    {
     "name": "stderr",
     "output_type": "stream",
     "text": [
      "ok\n",
      "\n",
      "----------------------------------------------------------------------\n",
      "Ran 2 tests in 0.066s\n",
      "\n",
      "OK\n"
     ]
    },
    {
     "data": {
      "text/plain": [
       "<unittest.main.TestProgram at 0x1cdbf3d8160>"
      ]
     },
     "execution_count": 1,
     "metadata": {},
     "output_type": "execute_result"
    }
   ],
   "source": [
    "import unittest\n",
    "from unittest import mock\n",
    "\n",
    "from bokeh.plotting import figure, output_file, show\n",
    "from bokeh.layouts import row, gridplot\n",
    "from bokeh.models import HoverTool, ColumnDataSource\n",
    "\n",
    "import calories_intake.visualization as vi\n",
    "\n",
    "class TestVisualization(unittest.TestCase):\n",
    "    \n",
    "    @classmethod\n",
    "    def setUpClass(cls):\n",
    "        print('setUpClass')\n",
    "        \n",
    "    def setUp(self):\n",
    "        self.lst1 = [50.0,60.0,45.0,87.0,32.0,69.0,78.0]\n",
    "        self.lst2 = [47,40,45,45,36,20,54]\n",
    "        self.lst3 = [126,155,102,135,120,169,110]\n",
    "        self.lst4 = [1,2,3,4,5,6,7]\n",
    "        self.lst5 = [2127.0,1220.0,1101.0,2816.0,2612.0,1800.0,1998.0]\n",
    "        \n",
    "        self.v1 = figure()\n",
    "        self.v1.circle(self.lst4, self.lst1)\n",
    "        self.v2 = figure()\n",
    "        self.v2.triangle(self.lst4, self.lst2)\n",
    "        self.v3 = figure()\n",
    "        self.v3.square(self.lst4, self.lst3)\n",
    "        self.v4 = gridplot([[self.v1, self.v2, self.v3]])\n",
    "        \n",
    "        self.v5 = ColumnDataSource(data=dict(x = self.lst4, y = self.lst5))\n",
    "        self.v6 = HoverTool(tooltips=[('index', '$index'), ('y', '@y')])\n",
    "        self.v7 = figure(tools=[self.v6])\n",
    "        self.v7.line('x', 'y', source=self.v5)\n",
    "        self.v7.circle('x', 'y', source=self.v5)\n",
    "        \n",
    "    def test_type(self):\n",
    "        self.assertEqual(str(type(self.v1)), \"<class 'bokeh.plotting.figure.Figure'>\")\n",
    "        self.assertEqual(str(type(self.v2)), \"<class 'bokeh.plotting.figure.Figure'>\")\n",
    "        self.assertEqual(str(type(self.v3)), \"<class 'bokeh.plotting.figure.Figure'>\")\n",
    "        self.assertEqual(str(type(self.v4)), \"<class 'bokeh.models.layouts.Column'>\")\n",
    "        self.assertEqual(str(type(self.v5)), \"<class 'bokeh.models.sources.ColumnDataSource'>\")\n",
    "        self.assertEqual(str(type(self.v6)), \"<class 'bokeh.models.tools.HoverTool'>\")\n",
    "        self.assertEqual(str(type(self.v7)), \"<class 'bokeh.plotting.figure.Figure'>\")\n",
    "       \n",
    "    \n",
    "    @mock.patch('calories_intake.visualization.input', create=True)\n",
    "    def test_entry(self, mocked_input):\n",
    "        mocked_input.side_effect = ['50 60 45 87 32 69 78', '47 40 45 45 36 20 54', '126 155 102 135 120 169 110']\n",
    "        self.assertEqual(vi.entry(), [1127.0, 1220.0, 993.0, 1293.0, 932.0, 1132.0, 1238.0])\n",
    "        \n",
    "        mocked_input.side_effect = ['97 63 102 90 65 100 89 87', '69 65 80 97 67 54 80 63', '160 121 158 162 167 160 110 170']\n",
    "        self.assertEqual(vi.entry(), [1649.0, 1321.0, 1760.0, 1881.0, 1531.0, 1526.0, 1516.0, 1595.0])\n",
    "        \n",
    "        mocked_input.side_effect = ['50 60 45 87 69 78', '47 40 45 45 36 20 54', '126 155 102 135 120 169 110']\n",
    "        with self.assertRaises(ValueError) as context:\n",
    "            vi.entry()\n",
    "            \n",
    "        self.assertEqual('We need records for at least a week', str(context.exception))\n",
    "        \n",
    "        mocked_input.side_effect = ['50 60 45 87 32 69 78', '47 40 45 45 36 20 54 98', '126 155 102 135 120 169 110']\n",
    "        with self.assertRaises(ValueError) as context:\n",
    "            vi.entry()\n",
    "            \n",
    "        self.assertEqual('Number of records for all 3 nutrients need to be the same', str(context.exception))\n",
    "\n",
    "    \n",
    "    def tearDown(self):\n",
    "        self.lst1 = None\n",
    "        self.lst2 = None\n",
    "        self.lst3 = None\n",
    "        self.lst4 = None\n",
    "        self.lst5 = None\n",
    "        self.v1 = None\n",
    "        self.v2 = None\n",
    "        self.v3 = None\n",
    "        self.v4 = None\n",
    "        self.v5 = None\n",
    "        self.v6 = None\n",
    "        self.v7 = None\n",
    "\n",
    "    @classmethod\n",
    "    def tearDownClass(cls):\n",
    "        print('tearDownClass')\n",
    "\n",
    "unittest.main(argv=[''], verbosity=2, exit=False)"
   ]
  },
  {
   "cell_type": "code",
   "execution_count": null,
   "metadata": {},
   "outputs": [],
   "source": []
  }
 ],
 "metadata": {
  "kernelspec": {
   "display_name": "Python 3",
   "language": "python",
   "name": "python3"
  },
  "language_info": {
   "codemirror_mode": {
    "name": "ipython",
    "version": 3
   },
   "file_extension": ".py",
   "mimetype": "text/x-python",
   "name": "python",
   "nbconvert_exporter": "python",
   "pygments_lexer": "ipython3",
   "version": "3.8.3"
  }
 },
 "nbformat": 4,
 "nbformat_minor": 4
}
