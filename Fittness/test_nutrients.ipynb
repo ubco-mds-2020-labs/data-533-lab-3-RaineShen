{
 "cells": [
  {
   "cell_type": "code",
   "execution_count": 1,
   "metadata": {},
   "outputs": [
    {
     "name": "stderr",
     "output_type": "stream",
     "text": [
      "test_bodyNeeds (__main__.TestNutrients) ... ok\n",
      "test_calCalories (__main__.TestNutrients) ... ok\n",
      "test_carbCal (__main__.TestNutrients) ... ok\n",
      "test_fatCal (__main__.TestNutrients) ... ok\n",
      "test_protCal (__main__.TestNutrients) ... "
     ]
    },
    {
     "name": "stdout",
     "output_type": "stream",
     "text": [
      "setUpClass\n",
      "tearDownClass\n"
     ]
    },
    {
     "name": "stderr",
     "output_type": "stream",
     "text": [
      "ok\n",
      "\n",
      "----------------------------------------------------------------------\n",
      "Ran 5 tests in 0.007s\n",
      "\n",
      "OK\n"
     ]
    },
    {
     "data": {
      "text/plain": [
       "<unittest.main.TestProgram at 0x149cd0d64c0>"
      ]
     },
     "execution_count": 1,
     "metadata": {},
     "output_type": "execute_result"
    }
   ],
   "source": [
    "import unittest\n",
    "import Fittness.calories_intake.nutrients as nu\n",
    "\n",
    "class TestNutrients(unittest.TestCase):\n",
    "    \n",
    "    @classmethod\n",
    "    def setUpClass(cls):\n",
    "        cls.s1 = nu.Nutrients('protein', 75)\n",
    "        cls.s2 = nu.Nutrients('fat', 40)\n",
    "        cls.s3 = nu.Nutrients('carbohydrate', 165)\n",
    "        print('setUpClass')\n",
    "        \n",
    "    def setUp(self):\n",
    "        self.n1 = nu.Protein('protein', 75, 4)\n",
    "        self.n2 = nu.Fat('fat', 40, 9)\n",
    "        self.n3 = nu.Carbohydrate('carbohydrate', 165, 4)\n",
    "        \n",
    "    def test_protCal(self):\n",
    "        self.assertEqual(self.n1.protCal(), 300)\n",
    "        \n",
    "    def test_fatCal(self):\n",
    "        self.assertEqual(self.n2.fatCal(), 360)\n",
    "        \n",
    "    def test_carbCal(self):\n",
    "        self.assertEqual(self.n3.carbCal(), 660)\n",
    "        \n",
    "    def test_calCalories(self):\n",
    "        self.assertEqual(nu.calCalories(75, 40, 165), 1320)\n",
    "        self.assertEqual(nu.calCalories(0, 84, 120), 1236)\n",
    "        self.assertEqual(nu.calCalories(82, 110, 0), 1318)\n",
    "        self.assertEqual(nu.calCalories(57, 0, 189), 984)\n",
    "        \n",
    "    def test_bodyNeeds(self):\n",
    "        self.assertEqual(nu.bodyNeeds(45, 160, 'f', 30, 75, 40, 165, 1.2), 'You need to intake more calories daily!')\n",
    "        self.assertEqual(nu.bodyNeeds(55, 176, 'm', 67, 150, 120, 250, 1.375), 'You need to cut down your daily calorie intake or do more exercise!')\n",
    "        self.assertEqual(nu.bodyNeeds(52, 170, 'f', 32, 120, 85, 199, 1.55), 'You are doing great to maintain your weight!')\n",
    "        self.assertEqual(nu.bodyNeeds(85, 180, 'm', 45, 250, 120, 350, 1.9), 'You need to intake more calories daily!')\n",
    "    \n",
    "    def tearDown(self):\n",
    "        self.n1 = None\n",
    "        self.n2 = None\n",
    "        self.n3 = None\n",
    "        \n",
    "    @classmethod\n",
    "    def tearDownClass(cls):\n",
    "        cls.s1 = None\n",
    "        cls.s2 = None\n",
    "        cls.s3 = None\n",
    "        print('tearDownClass')\n",
    "\n",
    "unittest.main(argv=[''], verbosity=2, exit=False)"
   ]
  },
  {
   "cell_type": "code",
   "execution_count": null,
   "metadata": {},
   "outputs": [],
   "source": []
  }
 ],
 "metadata": {
  "kernelspec": {
   "display_name": "Python 3",
   "language": "python",
   "name": "python3"
  },
  "language_info": {
   "codemirror_mode": {
    "name": "ipython",
    "version": 3
   },
   "file_extension": ".py",
   "mimetype": "text/x-python",
   "name": "python",
   "nbconvert_exporter": "python",
   "pygments_lexer": "ipython3",
   "version": "3.8.3"
  }
 },
 "nbformat": 4,
 "nbformat_minor": 4
}
